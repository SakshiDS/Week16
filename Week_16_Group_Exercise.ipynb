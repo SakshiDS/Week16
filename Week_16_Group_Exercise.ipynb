{
 "cells": [
  {
   "cell_type": "code",
   "execution_count": 1,
   "id": "f5ff247f",
   "metadata": {
    "scrolled": true
   },
   "outputs": [],
   "source": [
    "# importing packages\n",
    "import pandas as pd\n",
    "import matplotlib.pyplot as plt\n",
    "\n",
    "from sklearn import tree\n",
    "from sklearn.metrics import classification_report\n",
    "from sklearn.model_selection import train_test_split\n",
    "from sklearn.preprocessing import StandardScaler\n",
    "import pydotplus\n",
    "\n",
    "from IPython.display import Image\n",
    "\n",
    "from sklearn.model_selection import RandomizedSearchCV\n",
    "from scipy.stats import randint\n",
    "\n",
    "import os"
   ]
  },
  {
   "cell_type": "code",
   "execution_count": 2,
   "id": "3d21091c",
   "metadata": {},
   "outputs": [
    {
     "data": {
      "text/plain": [
       "(768, 9)"
      ]
     },
     "execution_count": 2,
     "metadata": {},
     "output_type": "execute_result"
    }
   ],
   "source": [
    "diabetes_df = pd.read_csv(\"../Datasets/diabetes.csv\")\n",
    "diabetes_df.shape"
   ]
  },
  {
   "cell_type": "markdown",
   "id": "57b74478",
   "metadata": {},
   "source": [
    "#### 1. Work to improve the model performance for the diabetes decision tree we created in class. You should be able to improve the precision and recall to be above .8 and .7 respectively. You can improve the preprocessing OR alter the model itself."
   ]
  },
  {
   "cell_type": "markdown",
   "id": "61b841d3",
   "metadata": {},
   "source": [
    "--- Standard Model"
   ]
  },
  {
   "cell_type": "code",
   "execution_count": 3,
   "id": "715d63e5",
   "metadata": {},
   "outputs": [
    {
     "name": "stdout",
     "output_type": "stream",
     "text": [
      "              precision    recall  f1-score   support\n",
      "\n",
      "           0       0.79      0.83      0.81       150\n",
      "           1       0.66      0.59      0.62        81\n",
      "\n",
      "    accuracy                           0.75       231\n",
      "   macro avg       0.72      0.71      0.72       231\n",
      "weighted avg       0.74      0.75      0.75       231\n",
      "\n"
     ]
    }
   ],
   "source": [
    "y=diabetes_df['Outcome'].values \n",
    "X=diabetes_df.drop('Outcome',axis=1)\n",
    "\n",
    "# Split into training and test set\n",
    "X_train, X_test, y_train, y_test = train_test_split(X, y, test_size = 0.3, random_state=42, stratify=y)\n",
    "\n",
    "#Standardize\n",
    "sc= StandardScaler()\n",
    "X_train=sc.fit_transform(X_train)\n",
    "X_test=sc.fit_transform(X_test)\n",
    "\n",
    "model = tree.DecisionTreeClassifier(max_depth = 8,random_state=42)\n",
    "model = model.fit(X_train, y_train)\n",
    "y_pred = model.predict(X_test)\n",
    "\n",
    "\n",
    "\n",
    "print(classification_report(y_test, y_pred))"
   ]
  },
  {
   "cell_type": "code",
   "execution_count": 4,
   "id": "150e2189",
   "metadata": {},
   "outputs": [
    {
     "data": {
      "image/png": "[encoded data removed]",
      "text/plain": [
       "<Figure size 432x288 with 1 Axes>"
      ]
     },
     "metadata": {
      "needs_background": "light"
     },
     "output_type": "display_data"
    }
   ],
   "source": [
    "tree.plot_tree(model)\n",
    "plt.savefig(\"tree.svg\")\n",
    "plt.show()"
   ]
  },
  {
   "cell_type": "markdown",
   "id": "18cb116f",
   "metadata": {},
   "source": [
    "--- Tuning the model to improve performance"
   ]
  },
  {
   "cell_type": "code",
   "execution_count": 7,
   "id": "33caecff",
   "metadata": {},
   "outputs": [
    {
     "name": "stdout",
     "output_type": "stream",
     "text": [
      "Tuned Decision Tree Parameters: {'criterion': 'gini', 'max_depth': 3, 'max_features': 7, 'min_samples_leaf': 3}\n",
      "Best score is 0.7429041190723433\n",
      "              precision    recall  f1-score   support\n",
      "\n",
      "           0       0.75      0.85      0.80       150\n",
      "           1       0.64      0.48      0.55        81\n",
      "\n",
      "    accuracy                           0.72       231\n",
      "   macro avg       0.70      0.67      0.67       231\n",
      "weighted avg       0.71      0.72      0.71       231\n",
      "\n"
     ]
    }
   ],
   "source": [
    "# Setup the parameters and distributions to sample from: param_dist\n",
    "param_dist = {\"max_depth\": [3, None],\n",
    "              \"max_features\": randint(1, 8),\n",
    "              \"min_samples_leaf\": randint(1, 8),\n",
    "              \"criterion\": [\"gini\", \"entropy\"]}\n",
    "\n",
    "model2 = tree.DecisionTreeClassifier()\n",
    "tree_cv = RandomizedSearchCV(model2, param_dist, cv=5)\n",
    "\n",
    "tree_cv.fit(X_train,y_train)\n",
    "\n",
    "print(\"Tuned Decision Tree Parameters: {}\".format(tree_cv.best_params_))\n",
    "print(\"Best score is {}\".format(tree_cv.best_score_))\n",
    "\n",
    "y_pred2 = tree_cv.predict(X_test)\n",
    "print(classification_report(y_test, y_pred2))"
   ]
  },
  {
   "cell_type": "markdown",
   "id": "2c2073e4",
   "metadata": {},
   "source": [
    "##### 2. Create a function that accepts an array of names and returns a string formatted as a list of names separated by commas EXCEPT for the last two names, which are separated by an ampersand (and sign - &)\n",
    "\n",
    "Example input:\n",
    "\n",
    "[ {'name': 'Nichole'}, {'name': 'Tanisha'}, {'name': 'Maggie'} ]\n",
    "\n",
    "Example output:\n",
    "\n",
    "Nichole, Tanisha & Maggie"
   ]
  },
  {
   "cell_type": "code",
   "execution_count": 14,
   "id": "89a6521a",
   "metadata": {},
   "outputs": [],
   "source": [
    "def namelist(names):\n",
    "    output_string = ''\n",
    "    if len(names) != 0:\n",
    "      ls = []\n",
    "      for i in range(0, len(names) - 1):\n",
    "          ls.append(names[i]['name'])\n",
    "      output_string = ', '.join(ls)\n",
    "      output_string += ' & ' + names[-1]['name'] if str != '' else names[-1]['name']\n",
    "     \n",
    "    return output_string"
   ]
  },
  {
   "cell_type": "code",
   "execution_count": 15,
   "id": "ce17e07c",
   "metadata": {},
   "outputs": [],
   "source": [
    "input = [ {'name': 'Nichole'}, {'name': 'Tanisha'}, {'name': 'Maggie'} ]"
   ]
  },
  {
   "cell_type": "code",
   "execution_count": 16,
   "id": "4260ccf9",
   "metadata": {},
   "outputs": [
    {
     "data": {
      "text/plain": [
       "'Nichole, Tanisha & Maggie'"
      ]
     },
     "execution_count": 16,
     "metadata": {},
     "output_type": "execute_result"
    }
   ],
   "source": [
    "namelist(input)"
   ]
  }
 ],
 "metadata": {
  "kernelspec": {
   "display_name": "Python 3 (ipykernel)",
   "language": "python",
   "name": "python3"
  },
  "language_info": {
   "codemirror_mode": {
    "name": "ipython",
    "version": 3
   },
   "file_extension": ".py",
   "mimetype": "text/x-python",
   "name": "python",
   "nbconvert_exporter": "python",
   "pygments_lexer": "ipython3",
   "version": "3.8.10"
  }
 },
 "nbformat": 4,
 "nbformat_minor": 5
}
